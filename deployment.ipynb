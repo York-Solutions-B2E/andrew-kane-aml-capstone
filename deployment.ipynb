{
 "cells": [
  {
   "cell_type": "markdown",
   "id": "da400a2a-2904-41c2-a9c1-089cdc6cea7a",
   "metadata": {},
   "source": [
    "## Deployment of model to GCP"
   ]
  },
  {
   "cell_type": "markdown",
   "id": "f50d2937-f142-4329-af00-a43f29d467c6",
   "metadata": {},
   "source": [
    "Deployment was completed through the Google Cloud console UI."
   ]
  },
  {
   "cell_type": "markdown",
   "id": "d217126e-3703-4e1d-a976-1cf8f9e1a726",
   "metadata": {},
   "source": [
    "**BigQuery**  \n",
    "Chosen model exported to Google Cloud Storage via the Export Model feature in model details: akane_bucket/akane_addtocart_xgb"
   ]
  },
  {
   "cell_type": "markdown",
   "id": "fadb58c3-4500-4ed8-8998-8efa3c8a2575",
   "metadata": {},
   "source": [
    "**Vertex AI Model Registry**\n",
    "* Import model  \n",
    "Import as new model  \n",
    "Name: akane_addtocart_xgb  \n",
    "Region: us-central1  \n",
    "*Model settings*  \n",
    "Import into pre-built container  \n",
    "Model framework: XGBoost  \n",
    "Model framework version: 0.9  \n",
    "Cloud storage path: akane_bucket/akane_addtocart_xgb  \n",
    "Explainability: Feature attribution -> Sampled Shapley"
   ]
  },
  {
   "cell_type": "markdown",
   "id": "79609b91-2abe-41d4-9eaa-be8459d50d1d",
   "metadata": {},
   "source": [
    "**Vertex AI Online prediction**  \n",
    "* Create  \n",
    "Endpoint name: akane_endpoint1  \n",
    "Access: Standard  \n",
    "Model name: akane_addtocart_xgb   "
   ]
  }
 ],
 "metadata": {
  "environment": {
   "kernel": "",
   "name": "workbench-notebooks.m115",
   "type": "gcloud",
   "uri": "gcr.io/deeplearning-platform-release/workbench-notebooks:m115"
  },
  "kernelspec": {
   "display_name": "",
   "name": ""
  },
  "language_info": {
   "name": ""
  }
 },
 "nbformat": 4,
 "nbformat_minor": 5
}
