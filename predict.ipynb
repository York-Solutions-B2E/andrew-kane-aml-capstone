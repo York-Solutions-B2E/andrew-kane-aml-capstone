{
 "cells": [
  {
   "cell_type": "markdown",
   "id": "ba9b3783-03a1-49c0-82bb-d0428ce6ae6f",
   "metadata": {},
   "source": [
    "### I was unsuccessful in sending a working online prediction request to the endpoint in the project timeframe.  \n",
    "Work toward this end is recorded below."
   ]
  },
  {
   "cell_type": "code",
   "execution_count": 1,
   "id": "531c872b-5119-48ee-85ab-9d0775722cae",
   "metadata": {
    "tags": []
   },
   "outputs": [],
   "source": [
    "from google.cloud import bigquery\n",
    "from google.cloud import aiplatform as vertexai\n",
    "import numpy as np\n",
    "import pandas as pd\n",
    "from google.cloud.bigquery import Client, QueryJobConfig\n",
    "client = Client()"
   ]
  },
  {
   "cell_type": "code",
   "execution_count": 2,
   "id": "20937d86-635b-4bc0-8595-66a6018a28fe",
   "metadata": {
    "tags": []
   },
   "outputs": [],
   "source": [
    "PROJECT_ID = 'york-bb-cohort'\n",
    "BQ_LOCATION = 'US'\n",
    "REGION = 'us-east1'\n",
    "GCS_BUCKET = f\"{PROJECT_ID}-akane_bucket\"\n",
    "# Bucket created via console\n",
    "BQ_DATASET = f\"{PROJECT_ID}:akane_bqds\""
   ]
  },
  {
   "cell_type": "markdown",
   "id": "680696d9-1689-4373-b4c8-8c571b487905",
   "metadata": {},
   "source": [
    "### Functions to transform categorical fields"
   ]
  },
  {
   "cell_type": "markdown",
   "id": "03d5b3f6-fdca-4412-aba7-4c19e0a4548d",
   "metadata": {},
   "source": [
    "List of all categorical features in the order in which they appear in the query"
   ]
  },
  {
   "cell_type": "code",
   "execution_count": null,
   "id": "404e973e-8345-45be-8cf7-71390d502102",
   "metadata": {},
   "outputs": [],
   "source": [
    "CATEGORICAL_FEATURES = ['sku',\n",
    "                        'networkDomain',\n",
    "                        'country',\n",
    "                        'operatingSystem',\n",
    "                        'browser',\n",
    "                        'source',\n",
    "                        'channelGrouping',\n",
    "                        'isEntrance',\n",
    "                        'isExit',\n",
    "                        'type',\n",
    "                        'socialNetwork',\n",
    "                        'hasSocialSourceReferral',\n",
    "                        'contentGroup1',\n",
    "                        'contentGroup2',\n",
    "                        'contentGroup3',\n",
    "                        'previousContentGroup1',\n",
    "                        'previousContentGroup2',\n",
    "                        'previousContentGroup3',\n",
    "                        'previousContentGroup4',\n",
    "                        'previousContentGroup5',\n",
    "                        'campaign',\n",
    "                        'medium',\n",
    "                        'isMobile',\n",
    "                        'deviceCategory'\n",
    "                       ]"
   ]
  },
  {
   "cell_type": "code",
   "execution_count": null,
   "id": "2507df0c-2bc8-48fd-ab01-ec8c4e75e082",
   "metadata": {},
   "outputs": [],
   "source": []
  },
  {
   "cell_type": "markdown",
   "id": "ac2bd218-bae7-434b-9f78-018e40a8997c",
   "metadata": {},
   "source": [
    "### Get endpoint where model is deployed"
   ]
  },
  {
   "cell_type": "code",
   "execution_count": 3,
   "id": "a8aea2c3-3286-404f-b4eb-41f5aa0a62f3",
   "metadata": {
    "tags": []
   },
   "outputs": [],
   "source": [
    "endpoint = vertexai.Endpoint(endpoint_name = 'projects/319407066227/locations/us-central1/endpoints/6657263630230224896')"
   ]
  },
  {
   "cell_type": "markdown",
   "id": "d7c5f2d2-ae93-4e2d-99a3-238e8c68db53",
   "metadata": {},
   "source": [
    "### Grab a couple of entries for requesting prediction - from outside the training set"
   ]
  },
  {
   "cell_type": "code",
   "execution_count": 24,
   "id": "db61fb7f-e857-43cc-8ce9-665635872c70",
   "metadata": {
    "tags": []
   },
   "outputs": [
    {
     "data": {
      "application/vnd.jupyter.widget-view+json": {
       "model_id": "e524b00060c84719a8cdb786b2d1123c",
       "version_major": 2,
       "version_minor": 0
      },
      "text/plain": [
       "Query is running:   0%|          |"
      ]
     },
     "metadata": {},
     "output_type": "display_data"
    },
    {
     "data": {
      "application/vnd.jupyter.widget-view+json": {
       "model_id": "c7bc7da3faeb4a8eb46ddb59ce4edb8e",
       "version_major": 2,
       "version_minor": 0
      },
      "text/plain": [
       "Downloading:   0%|          |"
      ]
     },
     "metadata": {},
     "output_type": "display_data"
    }
   ],
   "source": [
    "%%bigquery sample_df --project $PROJECT_ID\n",
    "\n",
    "SELECT\n",
    "* EXCEPT(hitId)\n",
    "FROM `york-bb-cohort.akane_bqds.some_test`\n",
    "WHERE hitId = '149231360969731406445272116662' OR hitId = '149231360969731406445272116664'"
   ]
  },
  {
   "cell_type": "code",
   "execution_count": 25,
   "id": "36f7efca-71ef-4c83-9ee1-79fd0360c88e",
   "metadata": {
    "tags": []
   },
   "outputs": [
    {
     "data": {
      "text/html": [
       "<div>\n",
       "<style scoped>\n",
       "    .dataframe tbody tr th:only-of-type {\n",
       "        vertical-align: middle;\n",
       "    }\n",
       "\n",
       "    .dataframe tbody tr th {\n",
       "        vertical-align: top;\n",
       "    }\n",
       "\n",
       "    .dataframe thead th {\n",
       "        text-align: right;\n",
       "    }\n",
       "</style>\n",
       "<table border=\"1\" class=\"dataframe\">\n",
       "  <thead>\n",
       "    <tr style=\"text-align: right;\">\n",
       "      <th></th>\n",
       "      <th>visitNumber</th>\n",
       "      <th>sku</th>\n",
       "      <th>label</th>\n",
       "      <th>visitStartTime</th>\n",
       "      <th>date</th>\n",
       "      <th>networkDomain</th>\n",
       "      <th>country</th>\n",
       "      <th>operatingSystem</th>\n",
       "      <th>browser</th>\n",
       "      <th>source</th>\n",
       "      <th>...</th>\n",
       "      <th>previousContentGroup4</th>\n",
       "      <th>previousContentGroup5</th>\n",
       "      <th>campaign</th>\n",
       "      <th>medium</th>\n",
       "      <th>hits</th>\n",
       "      <th>pageviews</th>\n",
       "      <th>timeOnSite</th>\n",
       "      <th>newVisits</th>\n",
       "      <th>isMobile</th>\n",
       "      <th>deviceCategory</th>\n",
       "    </tr>\n",
       "  </thead>\n",
       "  <tbody>\n",
       "    <tr>\n",
       "      <th>0</th>\n",
       "      <td>1</td>\n",
       "      <td>none_or_many</td>\n",
       "      <td>0</td>\n",
       "      <td>1492313609</td>\n",
       "      <td>20170415</td>\n",
       "      <td>other</td>\n",
       "      <td>United States</td>\n",
       "      <td>Macintosh</td>\n",
       "      <td>Chrome</td>\n",
       "      <td>google</td>\n",
       "      <td>...</td>\n",
       "      <td>(not set)</td>\n",
       "      <td>(not set)</td>\n",
       "      <td>AW - Accessories</td>\n",
       "      <td>cpc</td>\n",
       "      <td>13</td>\n",
       "      <td>11</td>\n",
       "      <td>504</td>\n",
       "      <td>1</td>\n",
       "      <td>False</td>\n",
       "      <td>desktop</td>\n",
       "    </tr>\n",
       "    <tr>\n",
       "      <th>1</th>\n",
       "      <td>1</td>\n",
       "      <td>GGOEGAAX0031</td>\n",
       "      <td>1</td>\n",
       "      <td>1492313609</td>\n",
       "      <td>20170415</td>\n",
       "      <td>other</td>\n",
       "      <td>United States</td>\n",
       "      <td>Macintosh</td>\n",
       "      <td>Chrome</td>\n",
       "      <td>google</td>\n",
       "      <td>...</td>\n",
       "      <td>(not set)</td>\n",
       "      <td>(not set)</td>\n",
       "      <td>AW - Accessories</td>\n",
       "      <td>cpc</td>\n",
       "      <td>13</td>\n",
       "      <td>11</td>\n",
       "      <td>504</td>\n",
       "      <td>1</td>\n",
       "      <td>False</td>\n",
       "      <td>desktop</td>\n",
       "    </tr>\n",
       "  </tbody>\n",
       "</table>\n",
       "<p>2 rows × 35 columns</p>\n",
       "</div>"
      ],
      "text/plain": [
       "   visitNumber           sku  label  visitStartTime      date networkDomain  \\\n",
       "0            1  none_or_many      0      1492313609  20170415         other   \n",
       "1            1  GGOEGAAX0031      1      1492313609  20170415         other   \n",
       "\n",
       "         country operatingSystem browser  source  ... previousContentGroup4  \\\n",
       "0  United States       Macintosh  Chrome  google  ...             (not set)   \n",
       "1  United States       Macintosh  Chrome  google  ...             (not set)   \n",
       "\n",
       "   previousContentGroup5          campaign  medium  hits pageviews  \\\n",
       "0              (not set)  AW - Accessories     cpc    13        11   \n",
       "1              (not set)  AW - Accessories     cpc    13        11   \n",
       "\n",
       "   timeOnSite newVisits isMobile deviceCategory  \n",
       "0         504         1    False        desktop  \n",
       "1         504         1    False        desktop  \n",
       "\n",
       "[2 rows x 35 columns]"
      ]
     },
     "execution_count": 25,
     "metadata": {},
     "output_type": "execute_result"
    }
   ],
   "source": [
    "sample_df"
   ]
  },
  {
   "cell_type": "code",
   "execution_count": 8,
   "id": "91e7491d-b2cd-4008-a00f-df4c7b6760ca",
   "metadata": {
    "tags": []
   },
   "outputs": [],
   "source": [
    "import json"
   ]
  },
  {
   "cell_type": "code",
   "execution_count": 26,
   "id": "577ce3c6-12fa-4a8e-ab41-c633f23cf2a2",
   "metadata": {
    "tags": []
   },
   "outputs": [
    {
     "data": {
      "text/plain": [
       "{'visitNumber': 1,\n",
       " 'sku': 'none_or_many',\n",
       " 'label': 0,\n",
       " 'visitStartTime': 1492313609,\n",
       " 'date': 20170415,\n",
       " 'networkDomain': 'other',\n",
       " 'country': 'United States',\n",
       " 'operatingSystem': 'Macintosh',\n",
       " 'browser': 'Chrome',\n",
       " 'source': 'google',\n",
       " 'channelGrouping': 'Paid Search',\n",
       " 'hitNumber': 2,\n",
       " 'time': 16628,\n",
       " 'isEntrance': <NA>,\n",
       " 'isExit': <NA>,\n",
       " 'type': 'PAGE',\n",
       " 'step': 1,\n",
       " 'socialNetwork': '(not set)',\n",
       " 'hasSocialSourceReferral': 'No',\n",
       " 'contentGroup1': '(not set)',\n",
       " 'contentGroup2': 'Apparel',\n",
       " 'contentGroup3': '(not set)',\n",
       " 'previousContentGroup1': '(not set)',\n",
       " 'previousContentGroup2': '(not set)',\n",
       " 'previousContentGroup3': '(not set)',\n",
       " 'previousContentGroup4': '(not set)',\n",
       " 'previousContentGroup5': '(not set)',\n",
       " 'campaign': 'AW - Accessories',\n",
       " 'medium': 'cpc',\n",
       " 'hits': 13,\n",
       " 'pageviews': 11,\n",
       " 'timeOnSite': 504,\n",
       " 'newVisits': 1,\n",
       " 'isMobile': False,\n",
       " 'deviceCategory': 'desktop'}"
      ]
     },
     "execution_count": 26,
     "metadata": {},
     "output_type": "execute_result"
    }
   ],
   "source": [
    "sample1 = dict(sample_df.iloc[0])\n",
    "sample1"
   ]
  },
  {
   "cell_type": "code",
   "execution_count": 17,
   "id": "eceeeb6b-8b0b-4aa2-aee1-0421bc1625d9",
   "metadata": {
    "tags": []
   },
   "outputs": [],
   "source": [
    "# sample_df_requests = json.loads(sample_df.to_json(orient=\"records\"))"
   ]
  },
  {
   "cell_type": "code",
   "execution_count": 27,
   "id": "6b6fe02e-3e21-418a-a691-924aa78fb09b",
   "metadata": {
    "tags": []
   },
   "outputs": [
    {
     "ename": "ValueError",
     "evalue": "Unable to coerce value: 1",
     "output_type": "error",
     "traceback": [
      "\u001b[0;31m---------------------------------------------------------------------------\u001b[0m",
      "\u001b[0;31mValueError\u001b[0m                                Traceback (most recent call last)",
      "Cell \u001b[0;32mIn[27], line 1\u001b[0m\n\u001b[0;32m----> 1\u001b[0m prediction \u001b[38;5;241m=\u001b[39m \u001b[43mendpoint\u001b[49m\u001b[38;5;241;43m.\u001b[39;49m\u001b[43mpredict\u001b[49m\u001b[43m(\u001b[49m\u001b[43m[\u001b[49m\u001b[43msample1\u001b[49m\u001b[43m]\u001b[49m\u001b[43m)\u001b[49m\n\u001b[1;32m      2\u001b[0m \u001b[38;5;28mprint\u001b[39m(prediction\u001b[38;5;241m.\u001b[39mpredictions)\n",
      "File \u001b[0;32m/opt/conda/lib/python3.10/site-packages/google/cloud/aiplatform/models.py:1579\u001b[0m, in \u001b[0;36mEndpoint.predict\u001b[0;34m(self, instances, parameters, timeout, use_raw_predict)\u001b[0m\n\u001b[1;32m   1566\u001b[0m     \u001b[38;5;28;01mreturn\u001b[39;00m Prediction(\n\u001b[1;32m   1567\u001b[0m         predictions\u001b[38;5;241m=\u001b[39mjson_response[\u001b[38;5;124m\"\u001b[39m\u001b[38;5;124mpredictions\u001b[39m\u001b[38;5;124m\"\u001b[39m],\n\u001b[1;32m   1568\u001b[0m         deployed_model_id\u001b[38;5;241m=\u001b[39mraw_predict_response\u001b[38;5;241m.\u001b[39mheaders[\n\u001b[0;32m   (...)\u001b[0m\n\u001b[1;32m   1576\u001b[0m         ),\n\u001b[1;32m   1577\u001b[0m     )\n\u001b[1;32m   1578\u001b[0m \u001b[38;5;28;01melse\u001b[39;00m:\n\u001b[0;32m-> 1579\u001b[0m     prediction_response \u001b[38;5;241m=\u001b[39m \u001b[38;5;28;43mself\u001b[39;49m\u001b[38;5;241;43m.\u001b[39;49m\u001b[43m_prediction_client\u001b[49m\u001b[38;5;241;43m.\u001b[39;49m\u001b[43mpredict\u001b[49m\u001b[43m(\u001b[49m\n\u001b[1;32m   1580\u001b[0m \u001b[43m        \u001b[49m\u001b[43mendpoint\u001b[49m\u001b[38;5;241;43m=\u001b[39;49m\u001b[38;5;28;43mself\u001b[39;49m\u001b[38;5;241;43m.\u001b[39;49m\u001b[43m_gca_resource\u001b[49m\u001b[38;5;241;43m.\u001b[39;49m\u001b[43mname\u001b[49m\u001b[43m,\u001b[49m\n\u001b[1;32m   1581\u001b[0m \u001b[43m        \u001b[49m\u001b[43minstances\u001b[49m\u001b[38;5;241;43m=\u001b[39;49m\u001b[43minstances\u001b[49m\u001b[43m,\u001b[49m\n\u001b[1;32m   1582\u001b[0m \u001b[43m        \u001b[49m\u001b[43mparameters\u001b[49m\u001b[38;5;241;43m=\u001b[39;49m\u001b[43mparameters\u001b[49m\u001b[43m,\u001b[49m\n\u001b[1;32m   1583\u001b[0m \u001b[43m        \u001b[49m\u001b[43mtimeout\u001b[49m\u001b[38;5;241;43m=\u001b[39;49m\u001b[43mtimeout\u001b[49m\u001b[43m,\u001b[49m\n\u001b[1;32m   1584\u001b[0m \u001b[43m    \u001b[49m\u001b[43m)\u001b[49m\n\u001b[1;32m   1586\u001b[0m     \u001b[38;5;28;01mreturn\u001b[39;00m Prediction(\n\u001b[1;32m   1587\u001b[0m         predictions\u001b[38;5;241m=\u001b[39m[\n\u001b[1;32m   1588\u001b[0m             json_format\u001b[38;5;241m.\u001b[39mMessageToDict(item)\n\u001b[0;32m   (...)\u001b[0m\n\u001b[1;32m   1593\u001b[0m         model_resource_name\u001b[38;5;241m=\u001b[39mprediction_response\u001b[38;5;241m.\u001b[39mmodel,\n\u001b[1;32m   1594\u001b[0m     )\n",
      "File \u001b[0;32m/opt/conda/lib/python3.10/site-packages/google/cloud/aiplatform_v1/services/prediction_service/client.py:591\u001b[0m, in \u001b[0;36mPredictionServiceClient.predict\u001b[0;34m(self, request, endpoint, instances, parameters, retry, timeout, metadata)\u001b[0m\n\u001b[1;32m    589\u001b[0m     request\u001b[38;5;241m.\u001b[39mendpoint \u001b[38;5;241m=\u001b[39m endpoint\n\u001b[1;32m    590\u001b[0m \u001b[38;5;28;01mif\u001b[39;00m instances \u001b[38;5;129;01mis\u001b[39;00m \u001b[38;5;129;01mnot\u001b[39;00m \u001b[38;5;28;01mNone\u001b[39;00m:\n\u001b[0;32m--> 591\u001b[0m     \u001b[43mrequest\u001b[49m\u001b[38;5;241;43m.\u001b[39;49m\u001b[43minstances\u001b[49m\u001b[38;5;241;43m.\u001b[39;49m\u001b[43mextend\u001b[49m\u001b[43m(\u001b[49m\u001b[43minstances\u001b[49m\u001b[43m)\u001b[49m\n\u001b[1;32m    592\u001b[0m \u001b[38;5;28;01mif\u001b[39;00m parameters \u001b[38;5;129;01mis\u001b[39;00m \u001b[38;5;129;01mnot\u001b[39;00m \u001b[38;5;28;01mNone\u001b[39;00m:\n\u001b[1;32m    593\u001b[0m     request\u001b[38;5;241m.\u001b[39mparameters \u001b[38;5;241m=\u001b[39m parameters\n",
      "File \u001b[0;32m/opt/conda/lib/python3.10/_collections_abc.py:1149\u001b[0m, in \u001b[0;36mMutableSequence.extend\u001b[0;34m(self, values)\u001b[0m\n\u001b[1;32m   1147\u001b[0m     values \u001b[38;5;241m=\u001b[39m \u001b[38;5;28mlist\u001b[39m(values)\n\u001b[1;32m   1148\u001b[0m \u001b[38;5;28;01mfor\u001b[39;00m v \u001b[38;5;129;01min\u001b[39;00m values:\n\u001b[0;32m-> 1149\u001b[0m     \u001b[38;5;28;43mself\u001b[39;49m\u001b[38;5;241;43m.\u001b[39;49m\u001b[43mappend\u001b[49m\u001b[43m(\u001b[49m\u001b[43mv\u001b[49m\u001b[43m)\u001b[49m\n",
      "File \u001b[0;32m/opt/conda/lib/python3.10/_collections_abc.py:1128\u001b[0m, in \u001b[0;36mMutableSequence.append\u001b[0;34m(self, value)\u001b[0m\n\u001b[1;32m   1126\u001b[0m \u001b[38;5;28;01mdef\u001b[39;00m \u001b[38;5;21mappend\u001b[39m(\u001b[38;5;28mself\u001b[39m, value):\n\u001b[1;32m   1127\u001b[0m     \u001b[38;5;124m'\u001b[39m\u001b[38;5;124mS.append(value) -- append value to the end of the sequence\u001b[39m\u001b[38;5;124m'\u001b[39m\n\u001b[0;32m-> 1128\u001b[0m     \u001b[38;5;28;43mself\u001b[39;49m\u001b[38;5;241;43m.\u001b[39;49m\u001b[43minsert\u001b[49m\u001b[43m(\u001b[49m\u001b[38;5;28;43mlen\u001b[39;49m\u001b[43m(\u001b[49m\u001b[38;5;28;43mself\u001b[39;49m\u001b[43m)\u001b[49m\u001b[43m,\u001b[49m\u001b[43m \u001b[49m\u001b[43mvalue\u001b[49m\u001b[43m)\u001b[49m\n",
      "File \u001b[0;32m/opt/conda/lib/python3.10/site-packages/proto/marshal/collections/repeated.py:183\u001b[0m, in \u001b[0;36mRepeatedComposite.insert\u001b[0;34m(self, index, value)\u001b[0m\n\u001b[1;32m    181\u001b[0m \u001b[38;5;28;01mdef\u001b[39;00m \u001b[38;5;21minsert\u001b[39m(\u001b[38;5;28mself\u001b[39m, index: \u001b[38;5;28mint\u001b[39m, value):\n\u001b[1;32m    182\u001b[0m \u001b[38;5;250m    \u001b[39m\u001b[38;5;124;03m\"\"\"Insert ``value`` in the sequence before ``index``.\"\"\"\u001b[39;00m\n\u001b[0;32m--> 183\u001b[0m     pb_value \u001b[38;5;241m=\u001b[39m \u001b[38;5;28;43mself\u001b[39;49m\u001b[38;5;241;43m.\u001b[39;49m\u001b[43m_marshal\u001b[49m\u001b[38;5;241;43m.\u001b[39;49m\u001b[43mto_proto\u001b[49m\u001b[43m(\u001b[49m\u001b[38;5;28;43mself\u001b[39;49m\u001b[38;5;241;43m.\u001b[39;49m\u001b[43m_pb_type\u001b[49m\u001b[43m,\u001b[49m\u001b[43m \u001b[49m\u001b[43mvalue\u001b[49m\u001b[43m)\u001b[49m\n\u001b[1;32m    184\u001b[0m     \u001b[38;5;28mself\u001b[39m\u001b[38;5;241m.\u001b[39mpb\u001b[38;5;241m.\u001b[39minsert(index, pb_value)\n",
      "File \u001b[0;32m/opt/conda/lib/python3.10/site-packages/proto/marshal/marshal.py:228\u001b[0m, in \u001b[0;36mBaseMarshal.to_proto\u001b[0;34m(self, proto_type, value, strict)\u001b[0m\n\u001b[1;32m    225\u001b[0m     recursive_type \u001b[38;5;241m=\u001b[39m \u001b[38;5;28mtype\u001b[39m(proto_type()\u001b[38;5;241m.\u001b[39mvalue)\n\u001b[1;32m    226\u001b[0m     \u001b[38;5;28;01mreturn\u001b[39;00m {k: \u001b[38;5;28mself\u001b[39m\u001b[38;5;241m.\u001b[39mto_proto(recursive_type, v) \u001b[38;5;28;01mfor\u001b[39;00m k, v \u001b[38;5;129;01min\u001b[39;00m value\u001b[38;5;241m.\u001b[39mitems()}\n\u001b[0;32m--> 228\u001b[0m pb_value \u001b[38;5;241m=\u001b[39m \u001b[38;5;28;43mself\u001b[39;49m\u001b[38;5;241;43m.\u001b[39;49m\u001b[43mget_rule\u001b[49m\u001b[43m(\u001b[49m\u001b[43mproto_type\u001b[49m\u001b[38;5;241;43m=\u001b[39;49m\u001b[43mproto_type\u001b[49m\u001b[43m)\u001b[49m\u001b[38;5;241;43m.\u001b[39;49m\u001b[43mto_proto\u001b[49m\u001b[43m(\u001b[49m\u001b[43mvalue\u001b[49m\u001b[43m)\u001b[49m\n\u001b[1;32m    230\u001b[0m \u001b[38;5;66;03m# Sanity check: If we are in strict mode, did we get the value we want?\u001b[39;00m\n\u001b[1;32m    231\u001b[0m \u001b[38;5;28;01mif\u001b[39;00m strict \u001b[38;5;129;01mand\u001b[39;00m \u001b[38;5;129;01mnot\u001b[39;00m \u001b[38;5;28misinstance\u001b[39m(pb_value, proto_type):\n",
      "File \u001b[0;32m/opt/conda/lib/python3.10/site-packages/google/cloud/aiplatform/utils/enhanced_library/_decorators.py:33\u001b[0m, in \u001b[0;36mConversionValueRule.to_proto\u001b[0;34m(self, value)\u001b[0m\n\u001b[1;32m     31\u001b[0m     \u001b[38;5;28;01mreturn\u001b[39;00m value\u001b[38;5;241m.\u001b[39mto_value()\n\u001b[1;32m     32\u001b[0m \u001b[38;5;28;01melse\u001b[39;00m:\n\u001b[0;32m---> 33\u001b[0m     \u001b[38;5;28;01mreturn\u001b[39;00m \u001b[38;5;28;43msuper\u001b[39;49m\u001b[43m(\u001b[49m\u001b[43m)\u001b[49m\u001b[38;5;241;43m.\u001b[39;49m\u001b[43mto_proto\u001b[49m\u001b[43m(\u001b[49m\u001b[43mvalue\u001b[49m\u001b[43m)\u001b[49m\n",
      "File \u001b[0;32m/opt/conda/lib/python3.10/site-packages/proto/marshal/rules/struct.py:82\u001b[0m, in \u001b[0;36mValueRule.to_proto\u001b[0;34m(self, value)\u001b[0m\n\u001b[1;32m     77\u001b[0m     \u001b[38;5;28;01mreturn\u001b[39;00m struct_pb2\u001b[38;5;241m.\u001b[39mValue(\n\u001b[1;32m     78\u001b[0m         list_value\u001b[38;5;241m=\u001b[39m\u001b[38;5;28mself\u001b[39m\u001b[38;5;241m.\u001b[39m_marshal\u001b[38;5;241m.\u001b[39mto_proto(struct_pb2\u001b[38;5;241m.\u001b[39mListValue, value),\n\u001b[1;32m     79\u001b[0m     )\n\u001b[1;32m     80\u001b[0m \u001b[38;5;28;01mif\u001b[39;00m \u001b[38;5;28misinstance\u001b[39m(value, collections\u001b[38;5;241m.\u001b[39mabc\u001b[38;5;241m.\u001b[39mMapping):\n\u001b[1;32m     81\u001b[0m     \u001b[38;5;28;01mreturn\u001b[39;00m struct_pb2\u001b[38;5;241m.\u001b[39mValue(\n\u001b[0;32m---> 82\u001b[0m         struct_value\u001b[38;5;241m=\u001b[39m\u001b[38;5;28;43mself\u001b[39;49m\u001b[38;5;241;43m.\u001b[39;49m\u001b[43m_marshal\u001b[49m\u001b[38;5;241;43m.\u001b[39;49m\u001b[43mto_proto\u001b[49m\u001b[43m(\u001b[49m\u001b[43mstruct_pb2\u001b[49m\u001b[38;5;241;43m.\u001b[39;49m\u001b[43mStruct\u001b[49m\u001b[43m,\u001b[49m\u001b[43m \u001b[49m\u001b[43mvalue\u001b[49m\u001b[43m)\u001b[49m,\n\u001b[1;32m     83\u001b[0m     )\n\u001b[1;32m     84\u001b[0m \u001b[38;5;28;01mraise\u001b[39;00m \u001b[38;5;167;01mValueError\u001b[39;00m(\u001b[38;5;124m\"\u001b[39m\u001b[38;5;124mUnable to coerce value: \u001b[39m\u001b[38;5;132;01m%r\u001b[39;00m\u001b[38;5;124m\"\u001b[39m \u001b[38;5;241m%\u001b[39m value)\n",
      "File \u001b[0;32m/opt/conda/lib/python3.10/site-packages/proto/marshal/marshal.py:228\u001b[0m, in \u001b[0;36mBaseMarshal.to_proto\u001b[0;34m(self, proto_type, value, strict)\u001b[0m\n\u001b[1;32m    225\u001b[0m     recursive_type \u001b[38;5;241m=\u001b[39m \u001b[38;5;28mtype\u001b[39m(proto_type()\u001b[38;5;241m.\u001b[39mvalue)\n\u001b[1;32m    226\u001b[0m     \u001b[38;5;28;01mreturn\u001b[39;00m {k: \u001b[38;5;28mself\u001b[39m\u001b[38;5;241m.\u001b[39mto_proto(recursive_type, v) \u001b[38;5;28;01mfor\u001b[39;00m k, v \u001b[38;5;129;01min\u001b[39;00m value\u001b[38;5;241m.\u001b[39mitems()}\n\u001b[0;32m--> 228\u001b[0m pb_value \u001b[38;5;241m=\u001b[39m \u001b[38;5;28;43mself\u001b[39;49m\u001b[38;5;241;43m.\u001b[39;49m\u001b[43mget_rule\u001b[49m\u001b[43m(\u001b[49m\u001b[43mproto_type\u001b[49m\u001b[38;5;241;43m=\u001b[39;49m\u001b[43mproto_type\u001b[49m\u001b[43m)\u001b[49m\u001b[38;5;241;43m.\u001b[39;49m\u001b[43mto_proto\u001b[49m\u001b[43m(\u001b[49m\u001b[43mvalue\u001b[49m\u001b[43m)\u001b[49m\n\u001b[1;32m    230\u001b[0m \u001b[38;5;66;03m# Sanity check: If we are in strict mode, did we get the value we want?\u001b[39;00m\n\u001b[1;32m    231\u001b[0m \u001b[38;5;28;01mif\u001b[39;00m strict \u001b[38;5;129;01mand\u001b[39;00m \u001b[38;5;129;01mnot\u001b[39;00m \u001b[38;5;28misinstance\u001b[39m(pb_value, proto_type):\n",
      "File \u001b[0;32m/opt/conda/lib/python3.10/site-packages/proto/marshal/rules/struct.py:139\u001b[0m, in \u001b[0;36mStructRule.to_proto\u001b[0;34m(self, value)\u001b[0m\n\u001b[1;32m    133\u001b[0m     \u001b[38;5;28;01mreturn\u001b[39;00m struct_pb2\u001b[38;5;241m.\u001b[39mStruct(\n\u001b[1;32m    134\u001b[0m         fields\u001b[38;5;241m=\u001b[39m{k: v \u001b[38;5;28;01mfor\u001b[39;00m k, v \u001b[38;5;129;01min\u001b[39;00m value\u001b[38;5;241m.\u001b[39mpb\u001b[38;5;241m.\u001b[39mitems()},\n\u001b[1;32m    135\u001b[0m     )\n\u001b[1;32m    137\u001b[0m \u001b[38;5;66;03m# We got a dict (or something dict-like); convert it.\u001b[39;00m\n\u001b[1;32m    138\u001b[0m answer \u001b[38;5;241m=\u001b[39m struct_pb2\u001b[38;5;241m.\u001b[39mStruct(\n\u001b[0;32m--> 139\u001b[0m     fields\u001b[38;5;241m=\u001b[39m{\n\u001b[1;32m    140\u001b[0m         k: \u001b[38;5;28mself\u001b[39m\u001b[38;5;241m.\u001b[39m_marshal\u001b[38;5;241m.\u001b[39mto_proto(struct_pb2\u001b[38;5;241m.\u001b[39mValue, v) \u001b[38;5;28;01mfor\u001b[39;00m k, v \u001b[38;5;129;01min\u001b[39;00m value\u001b[38;5;241m.\u001b[39mitems()\n\u001b[1;32m    141\u001b[0m     }\n\u001b[1;32m    142\u001b[0m )\n\u001b[1;32m    143\u001b[0m \u001b[38;5;28;01mreturn\u001b[39;00m answer\n",
      "File \u001b[0;32m/opt/conda/lib/python3.10/site-packages/proto/marshal/rules/struct.py:140\u001b[0m, in \u001b[0;36m<dictcomp>\u001b[0;34m(.0)\u001b[0m\n\u001b[1;32m    133\u001b[0m     \u001b[38;5;28;01mreturn\u001b[39;00m struct_pb2\u001b[38;5;241m.\u001b[39mStruct(\n\u001b[1;32m    134\u001b[0m         fields\u001b[38;5;241m=\u001b[39m{k: v \u001b[38;5;28;01mfor\u001b[39;00m k, v \u001b[38;5;129;01min\u001b[39;00m value\u001b[38;5;241m.\u001b[39mpb\u001b[38;5;241m.\u001b[39mitems()},\n\u001b[1;32m    135\u001b[0m     )\n\u001b[1;32m    137\u001b[0m \u001b[38;5;66;03m# We got a dict (or something dict-like); convert it.\u001b[39;00m\n\u001b[1;32m    138\u001b[0m answer \u001b[38;5;241m=\u001b[39m struct_pb2\u001b[38;5;241m.\u001b[39mStruct(\n\u001b[1;32m    139\u001b[0m     fields\u001b[38;5;241m=\u001b[39m{\n\u001b[0;32m--> 140\u001b[0m         k: \u001b[38;5;28;43mself\u001b[39;49m\u001b[38;5;241;43m.\u001b[39;49m\u001b[43m_marshal\u001b[49m\u001b[38;5;241;43m.\u001b[39;49m\u001b[43mto_proto\u001b[49m\u001b[43m(\u001b[49m\u001b[43mstruct_pb2\u001b[49m\u001b[38;5;241;43m.\u001b[39;49m\u001b[43mValue\u001b[49m\u001b[43m,\u001b[49m\u001b[43m \u001b[49m\u001b[43mv\u001b[49m\u001b[43m)\u001b[49m \u001b[38;5;28;01mfor\u001b[39;00m k, v \u001b[38;5;129;01min\u001b[39;00m value\u001b[38;5;241m.\u001b[39mitems()\n\u001b[1;32m    141\u001b[0m     }\n\u001b[1;32m    142\u001b[0m )\n\u001b[1;32m    143\u001b[0m \u001b[38;5;28;01mreturn\u001b[39;00m answer\n",
      "File \u001b[0;32m/opt/conda/lib/python3.10/site-packages/proto/marshal/marshal.py:228\u001b[0m, in \u001b[0;36mBaseMarshal.to_proto\u001b[0;34m(self, proto_type, value, strict)\u001b[0m\n\u001b[1;32m    225\u001b[0m     recursive_type \u001b[38;5;241m=\u001b[39m \u001b[38;5;28mtype\u001b[39m(proto_type()\u001b[38;5;241m.\u001b[39mvalue)\n\u001b[1;32m    226\u001b[0m     \u001b[38;5;28;01mreturn\u001b[39;00m {k: \u001b[38;5;28mself\u001b[39m\u001b[38;5;241m.\u001b[39mto_proto(recursive_type, v) \u001b[38;5;28;01mfor\u001b[39;00m k, v \u001b[38;5;129;01min\u001b[39;00m value\u001b[38;5;241m.\u001b[39mitems()}\n\u001b[0;32m--> 228\u001b[0m pb_value \u001b[38;5;241m=\u001b[39m \u001b[38;5;28;43mself\u001b[39;49m\u001b[38;5;241;43m.\u001b[39;49m\u001b[43mget_rule\u001b[49m\u001b[43m(\u001b[49m\u001b[43mproto_type\u001b[49m\u001b[38;5;241;43m=\u001b[39;49m\u001b[43mproto_type\u001b[49m\u001b[43m)\u001b[49m\u001b[38;5;241;43m.\u001b[39;49m\u001b[43mto_proto\u001b[49m\u001b[43m(\u001b[49m\u001b[43mvalue\u001b[49m\u001b[43m)\u001b[49m\n\u001b[1;32m    230\u001b[0m \u001b[38;5;66;03m# Sanity check: If we are in strict mode, did we get the value we want?\u001b[39;00m\n\u001b[1;32m    231\u001b[0m \u001b[38;5;28;01mif\u001b[39;00m strict \u001b[38;5;129;01mand\u001b[39;00m \u001b[38;5;129;01mnot\u001b[39;00m \u001b[38;5;28misinstance\u001b[39m(pb_value, proto_type):\n",
      "File \u001b[0;32m/opt/conda/lib/python3.10/site-packages/google/cloud/aiplatform/utils/enhanced_library/_decorators.py:33\u001b[0m, in \u001b[0;36mConversionValueRule.to_proto\u001b[0;34m(self, value)\u001b[0m\n\u001b[1;32m     31\u001b[0m     \u001b[38;5;28;01mreturn\u001b[39;00m value\u001b[38;5;241m.\u001b[39mto_value()\n\u001b[1;32m     32\u001b[0m \u001b[38;5;28;01melse\u001b[39;00m:\n\u001b[0;32m---> 33\u001b[0m     \u001b[38;5;28;01mreturn\u001b[39;00m \u001b[38;5;28;43msuper\u001b[39;49m\u001b[43m(\u001b[49m\u001b[43m)\u001b[49m\u001b[38;5;241;43m.\u001b[39;49m\u001b[43mto_proto\u001b[49m\u001b[43m(\u001b[49m\u001b[43mvalue\u001b[49m\u001b[43m)\u001b[49m\n",
      "File \u001b[0;32m/opt/conda/lib/python3.10/site-packages/proto/marshal/rules/struct.py:84\u001b[0m, in \u001b[0;36mValueRule.to_proto\u001b[0;34m(self, value)\u001b[0m\n\u001b[1;32m     80\u001b[0m \u001b[38;5;28;01mif\u001b[39;00m \u001b[38;5;28misinstance\u001b[39m(value, collections\u001b[38;5;241m.\u001b[39mabc\u001b[38;5;241m.\u001b[39mMapping):\n\u001b[1;32m     81\u001b[0m     \u001b[38;5;28;01mreturn\u001b[39;00m struct_pb2\u001b[38;5;241m.\u001b[39mValue(\n\u001b[1;32m     82\u001b[0m         struct_value\u001b[38;5;241m=\u001b[39m\u001b[38;5;28mself\u001b[39m\u001b[38;5;241m.\u001b[39m_marshal\u001b[38;5;241m.\u001b[39mto_proto(struct_pb2\u001b[38;5;241m.\u001b[39mStruct, value),\n\u001b[1;32m     83\u001b[0m     )\n\u001b[0;32m---> 84\u001b[0m \u001b[38;5;28;01mraise\u001b[39;00m \u001b[38;5;167;01mValueError\u001b[39;00m(\u001b[38;5;124m\"\u001b[39m\u001b[38;5;124mUnable to coerce value: \u001b[39m\u001b[38;5;132;01m%r\u001b[39;00m\u001b[38;5;124m\"\u001b[39m \u001b[38;5;241m%\u001b[39m value)\n",
      "\u001b[0;31mValueError\u001b[0m: Unable to coerce value: 1"
     ]
    }
   ],
   "source": [
    "prediction = endpoint.predict([sample1])\n",
    "print(prediction.predictions)"
   ]
  },
  {
   "cell_type": "code",
   "execution_count": null,
   "id": "dfa46369-7c97-49a8-a24d-b027b0991b20",
   "metadata": {},
   "outputs": [],
   "source": []
  }
 ],
 "metadata": {
  "environment": {
   "kernel": "conda-root-py",
   "name": "workbench-notebooks.m115",
   "type": "gcloud",
   "uri": "gcr.io/deeplearning-platform-release/workbench-notebooks:m115"
  },
  "kernelspec": {
   "display_name": "Python 3 (ipykernel) (Local)",
   "language": "python",
   "name": "conda-root-py"
  },
  "language_info": {
   "codemirror_mode": {
    "name": "ipython",
    "version": 3
   },
   "file_extension": ".py",
   "mimetype": "text/x-python",
   "name": "python",
   "nbconvert_exporter": "python",
   "pygments_lexer": "ipython3",
   "version": "3.10.13"
  }
 },
 "nbformat": 4,
 "nbformat_minor": 5
}
