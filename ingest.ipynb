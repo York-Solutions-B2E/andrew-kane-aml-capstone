{
 "cells": [
  {
   "cell_type": "markdown",
   "id": "f524622b-24ff-4164-94f4-3c3edd7ebcce",
   "metadata": {},
   "source": [
    "## Continued from exploration.ipynb"
   ]
  },
  {
   "cell_type": "code",
   "execution_count": 1,
   "id": "8311fdb3-acd6-4580-b3be-3f7a5679946a",
   "metadata": {},
   "outputs": [],
   "source": [
    "from google.cloud import bigquery\n",
    "from google.cloud import aiplatform as vertexai\n",
    "import numpy as np\n",
    "import pandas as pd\n",
    "from google.cloud.bigquery import Client, QueryJobConfig\n",
    "client = Client()"
   ]
  },
  {
   "cell_type": "code",
   "execution_count": 2,
   "id": "872c1f42-ad64-4d9e-836f-6f6ae6bf4620",
   "metadata": {
    "tags": []
   },
   "outputs": [],
   "source": [
    "PROJECT_ID = 'york-bb-cohort'\n",
    "BQ_LOCATION = 'US'\n",
    "REGION = 'us-east1'\n",
    "GCS_BUCKET = f\"{PROJECT_ID}-akane_bucket\"\n",
    "# Bucket created via console\n",
    "BQ_DATASET = f\"{PROJECT_ID}:akane_bqds\""
   ]
  },
  {
   "cell_type": "markdown",
   "id": "abe16ec4-ec51-4215-acac-451eafc5f833",
   "metadata": {},
   "source": [
    "### Create prototype training table"
   ]
  },
  {
   "cell_type": "markdown",
   "id": "f06b3ab4-728f-4a36-934e-7e7c92b26c8b",
   "metadata": {},
   "source": [
    "#### Other changes made to training set\n",
    "* Re-added sku as it seems important and could be used in place of the various pagePathLevel fields. To prevent duplicate rows I only retrieved values for this field where the length of the product array was 1. Hoping label encoding or something better is possible here\n",
    "* Encoded explicit label column: 1 whenever hits.eCommerceAction.action_type is 3, 0 otherwise\n",
    "* Dropped all rows that are bounces to slightly improve the class imbalance; may not be significant\n",
    "* Modified 'country', 'browser', 'source', 'operatingSystem', and 'networkDomain' to keep most common values (all having over 20,000 rows or 10 most common, whichever is fewer) and set all other values to 'other' to control dimensionality (assuming model algorithm might one-hot these fields)"
   ]
  },
  {
   "cell_type": "code",
   "execution_count": null,
   "id": "2e74ace5-7ccf-4cb8-ac46-83ff22356eb5",
   "metadata": {},
   "outputs": [],
   "source": [
    "%%bigquery --project ${PROJECT_ID}\n",
    "\n",
    "CREATE OR REPLACE TABLE akane_bqds.ga4_training_att2 AS (\n",
    "  SELECT\n",
    "    visitNumber, \n",
    "    (SELECT CASE WHEN ARRAY_LENGTH(h.product) = 1 THEN MAX(productSku) ELSE 'none_or_many' END FROM UNNEST(h.product)) AS sku,\n",
    "    IF(CAST(h.eCommerceAction.action_type AS INT) = 3,1,0) AS label,    \n",
    "    visitStartTime, \n",
    "    CAST(date AS INT) AS date, \n",
    "    CASE \n",
    "      WHEN geoNetwork.networkDomain IN ('(not set)', 'unknown.unknown', 'comcast.net', 'verizon.net', 'rr.com', 'comcastbusiness.net') \n",
    "      THEN geoNetwork.networkDomain\n",
    "      ELSE 'other'\n",
    "    END AS networkDomain,\n",
    "    CASE \n",
    "      WHEN geoNetwork.country IN ('United States', 'Canada', 'India', 'United Kingdom', 'Germany', 'Taiwan', 'Japan', 'Australia', 'France', 'Spain') \n",
    "      THEN geoNetwork.country\n",
    "      ELSE 'other'\n",
    "    END AS country,\n",
    "    CASE \n",
    "      WHEN device.operatingSystem IN ('Windows', 'Macintosh', 'Android', 'iOS', 'Chrome OS', 'Linux') \n",
    "      THEN device.operatingSystem\n",
    "      ELSE 'other'\n",
    "    END AS operatingSystem,\n",
    "    CASE \n",
    "      WHEN device.browser IN ('Chrome', 'Safari', 'Firefox', 'Internet Explorer', 'Android Webview') \n",
    "      THEN device.browser\n",
    "      ELSE 'other'\n",
    "    END AS browser,\n",
    "    CASE \n",
    "      WHEN trafficSource.source IN ('google', '(direct)', 'youtube.com', 'Partners') \n",
    "      THEN trafficSource.source\n",
    "      ELSE 'other'\n",
    "    END AS source,\n",
    "    channelGrouping, \n",
    "    h.hitNumber, \n",
    "    h.time, \n",
    "    h.isEntrance, \n",
    "    h.isExit, \n",
    "    h.type, \n",
    "    h.eCommerceAction.step, \n",
    "    h.social.socialNetwork, \n",
    "    h.social.hasSocialSourceReferral, \n",
    "    h.contentGroup.contentGroup1, \n",
    "    h.contentGroup.contentGroup2, \n",
    "    h.contentGroup.contentGroup3, \n",
    "    h.contentGroup.previousContentGroup1, \n",
    "    h.contentGroup.previousContentGroup2, \n",
    "    h.contentGroup.previousContentGroup3, \n",
    "    h.contentGroup.previousContentGroup4, \n",
    "    h.contentGroup.previousContentGroup5, \n",
    "    trafficSource.campaign, \n",
    "    trafficSource.medium, \n",
    "    totals.hits, \n",
    "    totals.pageviews, \n",
    "    totals.timeOnSite, \n",
    "    totals.newVisits, \n",
    "    device.isMobile, \n",
    "    device.deviceCategory, \n",
    "    FROM `bigquery-public-data.google_analytics_sample.ga_sessions_201703*`,\n",
    "    UNNEST(hits) AS h\n",
    "    WHERE totals.bounces IS NULL\n",
    ")"
   ]
  },
  {
   "cell_type": "markdown",
   "id": "1e905568-3843-42a4-b827-23ba59e08f12",
   "metadata": {},
   "source": [
    "### Create BigQuery ML model"
   ]
  },
  {
   "cell_type": "markdown",
   "id": "6b89cc0e-5944-4a91-a7bd-2245d8736ea2",
   "metadata": {},
   "source": [
    "### Model 1: Boosted tree classifier"
   ]
  },
  {
   "cell_type": "code",
   "execution_count": null,
   "id": "e73f237f-40c5-43c0-b3d9-4b1885b9c54d",
   "metadata": {},
   "outputs": [],
   "source": [
    "CREATE OR REPLACE MODEL akane_bqds.ak_bqmodel1\n",
    "OPTIONS(\n",
    "  MODEL_TYPE=\"BOOSTED_TREE_CLASSIFIER\",\n",
    "  INPUT_LABEL_COLS=['label'],\n",
    "  CATEGORY_ENCODING_METHOD='LABEL_ENCODING',\n",
    "  DATA_SPLIT_METHOD='AUTO_SPLIT',\n",
    "  HPARAM_TUNING_ALGORITHM='VIZIER_DEFAULT',\n",
    "  HPARAM_TUNING_OBJECTIVES=['roc_auc'],\n",
    "  EARLY_STOP=True,\n",
    "  num_trials=8,\n",
    "  max_parallel_trials=4\n",
    ") AS\n",
    "\n",
    "SELECT * FROM akane_bqds.ga4_training_att2"
   ]
  },
  {
   "cell_type": "markdown",
   "id": "a9c9a7dc-8eac-4082-a406-85e8d57c2ee5",
   "metadata": {},
   "source": [
    "### Model 2: Weighted boosted tree classifier"
   ]
  },
  {
   "cell_type": "code",
   "execution_count": null,
   "id": "296ef59f-f8d3-4e68-81b4-0478aac79078",
   "metadata": {},
   "outputs": [],
   "source": [
    "CREATE OR REPLACE MODEL akane_bqds.ak_bqmodel2\n",
    "OPTIONS(\n",
    "  MODEL_TYPE=\"BOOSTED_TREE_CLASSIFIER\",\n",
    "  INPUT_LABEL_COLS=['label'],\n",
    "  CATEGORY_ENCODING_METHOD='LABEL_ENCODING',\n",
    "  DATA_SPLIT_METHOD='AUTO_SPLIT',\n",
    "  AUTO_CLASS_WEIGHTS=True,\n",
    "  HPARAM_TUNING_ALGORITHM='VIZIER_DEFAULT',\n",
    "  HPARAM_TUNING_OBJECTIVES=['roc_auc'],\n",
    "  EARLY_STOP=True,\n",
    "  num_trials=8,\n",
    "  max_parallel_trials=4\n",
    ") AS\n",
    "\n",
    "SELECT * FROM akane_bqds.ga4_training_att2"
   ]
  },
  {
   "cell_type": "markdown",
   "id": "5698dba3-16a7-443d-92a6-2c1cf39a270a",
   "metadata": {},
   "source": [
    "### Model 3: Weighted logistic regression classifier"
   ]
  },
  {
   "cell_type": "code",
   "execution_count": null,
   "id": "25fc36ad-459a-480e-924a-d457b65077ac",
   "metadata": {},
   "outputs": [],
   "source": [
    "CREATE OR REPLACE MODEL akane_bqds.ak_lrmodel2\n",
    "OPTIONS(\n",
    "  MODEL_TYPE=\"LOGISTIC_REG\",\n",
    "  INPUT_LABEL_COLS=['label'],\n",
    "  DATA_SPLIT_METHOD='AUTO_SPLIT',\n",
    "  AUTO_CLASS_WEIGHTS=True,\n",
    "  HPARAM_TUNING_ALGORITHM='VIZIER_DEFAULT',\n",
    "  HPARAM_TUNING_OBJECTIVES=['roc_auc'],\n",
    "  EARLY_STOP=True,\n",
    "  num_trials=8,\n",
    "  max_parallel_trials=4\n",
    ") AS\n",
    "\n",
    "SELECT * EXCEPT(sku) FROM akane_bqds.ga4_training_att2"
   ]
  },
  {
   "cell_type": "markdown",
   "id": "a611300e-4734-47d5-8991-7d050abe77a6",
   "metadata": {},
   "source": [
    "### Model 4: Weighted logistic regression classifier, double trials"
   ]
  },
  {
   "cell_type": "code",
   "execution_count": null,
   "id": "e4ed59e8-4358-4a0b-a81a-13a59db34e7b",
   "metadata": {},
   "outputs": [],
   "source": [
    "CREATE OR REPLACE MODEL akane_bqds.ak_lrmodel1\n",
    "OPTIONS(\n",
    "  MODEL_TYPE=\"LOGISTIC_REG\",\n",
    "  INPUT_LABEL_COLS=['label'],\n",
    "  DATA_SPLIT_METHOD='AUTO_SPLIT',\n",
    "  AUTO_CLASS_WEIGHTS=True,\n",
    "  HPARAM_TUNING_ALGORITHM='VIZIER_DEFAULT',\n",
    "  HPARAM_TUNING_OBJECTIVES=['roc_auc'],\n",
    "  EARLY_STOP=True,\n",
    "  num_trials=16,\n",
    "  max_parallel_trials=2\n",
    ") AS\n",
    "\n",
    "SELECT * EXCEPT(sku) FROM akane_bqds.ga4_training_att2"
   ]
  }
 ],
 "metadata": {
  "environment": {
   "kernel": "conda-root-py",
   "name": "workbench-notebooks.m115",
   "type": "gcloud",
   "uri": "gcr.io/deeplearning-platform-release/workbench-notebooks:m115"
  },
  "kernelspec": {
   "display_name": "Python 3 (ipykernel) (Local)",
   "language": "python",
   "name": "conda-root-py"
  },
  "language_info": {
   "codemirror_mode": {
    "name": "ipython",
    "version": 3
   },
   "file_extension": ".py",
   "mimetype": "text/x-python",
   "name": "python",
   "nbconvert_exporter": "python",
   "pygments_lexer": "ipython3",
   "version": "3.10.13"
  }
 },
 "nbformat": 4,
 "nbformat_minor": 5
}
